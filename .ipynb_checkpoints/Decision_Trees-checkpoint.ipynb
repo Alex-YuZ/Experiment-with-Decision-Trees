{
 "cells": [
  {
   "cell_type": "markdown",
   "metadata": {},
   "source": [
    "# Decision Trees"
   ]
  },
  {
   "cell_type": "markdown",
   "metadata": {},
   "source": [
    "## Demo 1: Bugs"
   ]
  },
  {
   "cell_type": "code",
   "execution_count": 3,
   "metadata": {},
   "outputs": [],
   "source": [
    "import os\n",
    "os.chdir('projects_on_GitHub/Machine_learning/Decision_Trees')"
   ]
  },
  {
   "cell_type": "code",
   "execution_count": 5,
   "metadata": {},
   "outputs": [
    {
     "data": {
      "text/html": [
       "<div>\n",
       "<style scoped>\n",
       "    .dataframe tbody tr th:only-of-type {\n",
       "        vertical-align: middle;\n",
       "    }\n",
       "\n",
       "    .dataframe tbody tr th {\n",
       "        vertical-align: top;\n",
       "    }\n",
       "\n",
       "    .dataframe thead th {\n",
       "        text-align: right;\n",
       "    }\n",
       "</style>\n",
       "<table border=\"1\" class=\"dataframe\">\n",
       "  <thead>\n",
       "    <tr style=\"text-align: right;\">\n",
       "      <th></th>\n",
       "      <th>Species</th>\n",
       "      <th>Color</th>\n",
       "      <th>Length (mm)</th>\n",
       "    </tr>\n",
       "  </thead>\n",
       "  <tbody>\n",
       "    <tr>\n",
       "      <th>0</th>\n",
       "      <td>Mobug</td>\n",
       "      <td>Brown</td>\n",
       "      <td>11.6</td>\n",
       "    </tr>\n",
       "    <tr>\n",
       "      <th>1</th>\n",
       "      <td>Mobug</td>\n",
       "      <td>Blue</td>\n",
       "      <td>16.3</td>\n",
       "    </tr>\n",
       "    <tr>\n",
       "      <th>2</th>\n",
       "      <td>Lobug</td>\n",
       "      <td>Blue</td>\n",
       "      <td>15.1</td>\n",
       "    </tr>\n",
       "    <tr>\n",
       "      <th>3</th>\n",
       "      <td>Lobug</td>\n",
       "      <td>Green</td>\n",
       "      <td>23.7</td>\n",
       "    </tr>\n",
       "    <tr>\n",
       "      <th>4</th>\n",
       "      <td>Lobug</td>\n",
       "      <td>Blue</td>\n",
       "      <td>18.4</td>\n",
       "    </tr>\n",
       "    <tr>\n",
       "      <th>5</th>\n",
       "      <td>Lobug</td>\n",
       "      <td>Brown</td>\n",
       "      <td>17.1</td>\n",
       "    </tr>\n",
       "    <tr>\n",
       "      <th>6</th>\n",
       "      <td>Mobug</td>\n",
       "      <td>Brown</td>\n",
       "      <td>15.7</td>\n",
       "    </tr>\n",
       "    <tr>\n",
       "      <th>7</th>\n",
       "      <td>Lobug</td>\n",
       "      <td>Green</td>\n",
       "      <td>18.6</td>\n",
       "    </tr>\n",
       "    <tr>\n",
       "      <th>8</th>\n",
       "      <td>Lobug</td>\n",
       "      <td>Blue</td>\n",
       "      <td>22.9</td>\n",
       "    </tr>\n",
       "    <tr>\n",
       "      <th>9</th>\n",
       "      <td>Lobug</td>\n",
       "      <td>Blue</td>\n",
       "      <td>21.0</td>\n",
       "    </tr>\n",
       "    <tr>\n",
       "      <th>10</th>\n",
       "      <td>Lobug</td>\n",
       "      <td>Blue</td>\n",
       "      <td>20.5</td>\n",
       "    </tr>\n",
       "    <tr>\n",
       "      <th>11</th>\n",
       "      <td>Mobug</td>\n",
       "      <td>Green</td>\n",
       "      <td>21.2</td>\n",
       "    </tr>\n",
       "    <tr>\n",
       "      <th>12</th>\n",
       "      <td>Mobug</td>\n",
       "      <td>Brown</td>\n",
       "      <td>13.8</td>\n",
       "    </tr>\n",
       "    <tr>\n",
       "      <th>13</th>\n",
       "      <td>Lobug</td>\n",
       "      <td>Blue</td>\n",
       "      <td>14.5</td>\n",
       "    </tr>\n",
       "    <tr>\n",
       "      <th>14</th>\n",
       "      <td>Lobug</td>\n",
       "      <td>Green</td>\n",
       "      <td>24.8</td>\n",
       "    </tr>\n",
       "    <tr>\n",
       "      <th>15</th>\n",
       "      <td>Mobug</td>\n",
       "      <td>Brown</td>\n",
       "      <td>18.2</td>\n",
       "    </tr>\n",
       "    <tr>\n",
       "      <th>16</th>\n",
       "      <td>Lobug</td>\n",
       "      <td>Green</td>\n",
       "      <td>17.9</td>\n",
       "    </tr>\n",
       "    <tr>\n",
       "      <th>17</th>\n",
       "      <td>Lobug</td>\n",
       "      <td>Green</td>\n",
       "      <td>22.7</td>\n",
       "    </tr>\n",
       "    <tr>\n",
       "      <th>18</th>\n",
       "      <td>Mobug</td>\n",
       "      <td>Green</td>\n",
       "      <td>19.9</td>\n",
       "    </tr>\n",
       "    <tr>\n",
       "      <th>19</th>\n",
       "      <td>Mobug</td>\n",
       "      <td>Blue</td>\n",
       "      <td>14.6</td>\n",
       "    </tr>\n",
       "    <tr>\n",
       "      <th>20</th>\n",
       "      <td>Mobug</td>\n",
       "      <td>Blue</td>\n",
       "      <td>19.2</td>\n",
       "    </tr>\n",
       "    <tr>\n",
       "      <th>21</th>\n",
       "      <td>Lobug</td>\n",
       "      <td>Brown</td>\n",
       "      <td>14.1</td>\n",
       "    </tr>\n",
       "    <tr>\n",
       "      <th>22</th>\n",
       "      <td>Lobug</td>\n",
       "      <td>Green</td>\n",
       "      <td>18.8</td>\n",
       "    </tr>\n",
       "    <tr>\n",
       "      <th>23</th>\n",
       "      <td>Mobug</td>\n",
       "      <td>Blue</td>\n",
       "      <td>13.1</td>\n",
       "    </tr>\n",
       "  </tbody>\n",
       "</table>\n",
       "</div>"
      ],
      "text/plain": [
       "   Species  Color  Length (mm)\n",
       "0    Mobug  Brown         11.6\n",
       "1    Mobug   Blue         16.3\n",
       "2    Lobug   Blue         15.1\n",
       "3    Lobug  Green         23.7\n",
       "4    Lobug   Blue         18.4\n",
       "5    Lobug  Brown         17.1\n",
       "6    Mobug  Brown         15.7\n",
       "7    Lobug  Green         18.6\n",
       "8    Lobug   Blue         22.9\n",
       "9    Lobug   Blue         21.0\n",
       "10   Lobug   Blue         20.5\n",
       "11   Mobug  Green         21.2\n",
       "12   Mobug  Brown         13.8\n",
       "13   Lobug   Blue         14.5\n",
       "14   Lobug  Green         24.8\n",
       "15   Mobug  Brown         18.2\n",
       "16   Lobug  Green         17.9\n",
       "17   Lobug  Green         22.7\n",
       "18   Mobug  Green         19.9\n",
       "19   Mobug   Blue         14.6\n",
       "20   Mobug   Blue         19.2\n",
       "21   Lobug  Brown         14.1\n",
       "22   Lobug  Green         18.8\n",
       "23   Mobug   Blue         13.1"
      ]
     },
     "execution_count": 5,
     "metadata": {},
     "output_type": "execute_result"
    }
   ],
   "source": [
    "bugs = pd.read_csv('ml-bugs.csv')\n",
    "bugs"
   ]
  },
  {
   "cell_type": "code",
   "execution_count": 7,
   "metadata": {},
   "outputs": [
    {
     "data": {
      "text/plain": [
       "array(['Brown', 'Blue', 'Green'], dtype=object)"
      ]
     },
     "execution_count": 7,
     "metadata": {},
     "output_type": "execute_result"
    }
   ],
   "source": [
    "bugs.Color.unique()"
   ]
  },
  {
   "cell_type": "code",
   "execution_count": 8,
   "metadata": {},
   "outputs": [
    {
     "data": {
      "text/plain": [
       "array(['Mobug', 'Lobug'], dtype=object)"
      ]
     },
     "execution_count": 8,
     "metadata": {},
     "output_type": "execute_result"
    }
   ],
   "source": [
    "bugs.Species.unique()"
   ]
  },
  {
   "cell_type": "code",
   "execution_count": 20,
   "metadata": {},
   "outputs": [
    {
     "data": {
      "text/plain": [
       "Species\n",
       "Lobug    14\n",
       "Mobug    10\n",
       "Name: Species, dtype: int64"
      ]
     },
     "execution_count": 20,
     "metadata": {},
     "output_type": "execute_result"
    }
   ],
   "source": [
    "bugs.groupby('Species')['Species'].count()"
   ]
  },
  {
   "cell_type": "markdown",
   "metadata": {},
   "source": [
    "**Calculate the total entropy before any classification.**"
   ]
  },
  {
   "cell_type": "code",
   "execution_count": 21,
   "metadata": {},
   "outputs": [],
   "source": [
    "# Cal the entropy before classification\n",
    "lo_num = bugs.groupby('Species')['Species'].count()['Lobug']\n",
    "mo_num = bugs.groupby('Species')['Species'].count()['Mobug']"
   ]
  },
  {
   "cell_type": "code",
   "execution_count": 22,
   "metadata": {},
   "outputs": [],
   "source": [
    "def entropy(cls_entry):\n",
    "    ratio = []\n",
    "    for i in cls_entry:\n",
    "        ratio.append(i/np.sum(cls_entry))\n",
    "    \n",
    "    ens = []\n",
    "    for r in ratio:\n",
    "        ens.append(-r*np.log2(r))\n",
    "    return np.sum(ens)"
   ]
  },
  {
   "cell_type": "code",
   "execution_count": 31,
   "metadata": {},
   "outputs": [
    {
     "data": {
      "text/plain": [
       "0.9798687566511528"
      ]
     },
     "execution_count": 31,
     "metadata": {},
     "output_type": "execute_result"
    }
   ],
   "source": [
    "total_en = entropy([lo_num, mo_num])\n",
    "total_en"
   ]
  },
  {
   "cell_type": "markdown",
   "metadata": {},
   "source": [
    "**Case 1: Classified by color=Brown**"
   ]
  },
  {
   "cell_type": "code",
   "execution_count": 37,
   "metadata": {},
   "outputs": [
    {
     "data": {
      "text/plain": [
       "Species\n",
       "Lobug    2\n",
       "Mobug    4\n",
       "Name: Species, dtype: int64"
      ]
     },
     "execution_count": 37,
     "metadata": {},
     "output_type": "execute_result"
    }
   ],
   "source": [
    "brown = bugs[bugs['Color']=='Brown'].groupby('Species')['Species'].count()\n",
    "brown"
   ]
  },
  {
   "cell_type": "code",
   "execution_count": 38,
   "metadata": {},
   "outputs": [
    {
     "data": {
      "text/plain": [
       "Species\n",
       "Lobug    12\n",
       "Mobug     6\n",
       "Name: Species, dtype: int64"
      ]
     },
     "execution_count": 38,
     "metadata": {},
     "output_type": "execute_result"
    }
   ],
   "source": [
    "not_brown = bugs[bugs['Color']!='Brown'].groupby('Species')['Species'].count()\n",
    "not_brown"
   ]
  },
  {
   "cell_type": "code",
   "execution_count": 43,
   "metadata": {},
   "outputs": [
    {
     "data": {
      "text/plain": [
       "0.06157292259666325"
      ]
     },
     "execution_count": 43,
     "metadata": {},
     "output_type": "execute_result"
    }
   ],
   "source": [
    "en_brown = 6/24*entropy([brown['Lobug'], brown['Mobug']]) + 18/24*entropy([not_brown['Lobug'], not_brown['Mobug']])\n",
    "info_gain_br = total_en - en_brown\n",
    "info_gain_br"
   ]
  },
  {
   "cell_type": "markdown",
   "metadata": {},
   "source": [
    "**Case 2: Classified by color=Blue**"
   ]
  },
  {
   "cell_type": "code",
   "execution_count": 41,
   "metadata": {},
   "outputs": [
    {
     "data": {
      "text/plain": [
       "Species\n",
       "Lobug    6\n",
       "Mobug    4\n",
       "Name: Species, dtype: int64"
      ]
     },
     "execution_count": 41,
     "metadata": {},
     "output_type": "execute_result"
    }
   ],
   "source": [
    "blue = bugs[bugs['Color']=='Blue'].groupby('Species')['Species'].count()\n",
    "blue"
   ]
  },
  {
   "cell_type": "code",
   "execution_count": 42,
   "metadata": {},
   "outputs": [
    {
     "data": {
      "text/plain": [
       "Species\n",
       "Lobug    8\n",
       "Mobug    6\n",
       "Name: Species, dtype: int64"
      ]
     },
     "execution_count": 42,
     "metadata": {},
     "output_type": "execute_result"
    }
   ],
   "source": [
    "not_blue = bugs[bugs['Color']!='Blue'].groupby('Species')['Species'].count()\n",
    "not_blue"
   ]
  },
  {
   "cell_type": "code",
   "execution_count": 45,
   "metadata": {},
   "outputs": [
    {
     "data": {
      "text/plain": [
       "0.000589596275060833"
      ]
     },
     "execution_count": 45,
     "metadata": {},
     "output_type": "execute_result"
    }
   ],
   "source": [
    "en_blue = 10/24*entropy([blue['Lobug'], blue['Mobug']]) + 14/24*entropy([not_blue['Lobug'], not_blue['Mobug']])\n",
    "info_gain_bl = total_en - en_blue\n",
    "info_gain_bl"
   ]
  },
  {
   "cell_type": "markdown",
   "metadata": {},
   "source": [
    "**Case 3: Classified by color=Green**"
   ]
  },
  {
   "cell_type": "code",
   "execution_count": 46,
   "metadata": {},
   "outputs": [
    {
     "data": {
      "text/plain": [
       "Species\n",
       "Lobug    6\n",
       "Mobug    2\n",
       "Name: Species, dtype: int64"
      ]
     },
     "execution_count": 46,
     "metadata": {},
     "output_type": "execute_result"
    }
   ],
   "source": [
    "gr = bugs[bugs['Color']=='Green'].groupby('Species')['Species'].count()\n",
    "gr"
   ]
  },
  {
   "cell_type": "code",
   "execution_count": 47,
   "metadata": {},
   "outputs": [
    {
     "data": {
      "text/plain": [
       "Species\n",
       "Lobug    8\n",
       "Mobug    8\n",
       "Name: Species, dtype: int64"
      ]
     },
     "execution_count": 47,
     "metadata": {},
     "output_type": "execute_result"
    }
   ],
   "source": [
    "not_gr = bugs[bugs['Color']!='Green'].groupby('Species')['Species'].count()\n",
    "not_gr"
   ]
  },
  {
   "cell_type": "code",
   "execution_count": 48,
   "metadata": {},
   "outputs": [
    {
     "data": {
      "text/plain": [
       "0.042776048498108565"
      ]
     },
     "execution_count": 48,
     "metadata": {},
     "output_type": "execute_result"
    }
   ],
   "source": [
    "en_gr = 8/24*entropy([gr['Lobug'], gr['Mobug']]) + 16/24*entropy([not_gr['Lobug'], not_gr['Mobug']])\n",
    "info_gain_gr = total_en - en_gr\n",
    "info_gain_gr"
   ]
  },
  {
   "cell_type": "code",
   "execution_count": null,
   "metadata": {},
   "outputs": [],
   "source": []
  },
  {
   "cell_type": "markdown",
   "metadata": {},
   "source": [
    "**Case 4: Classified by Length < 17mm**"
   ]
  },
  {
   "cell_type": "code",
   "execution_count": 30,
   "metadata": {},
   "outputs": [
    {
     "data": {
      "text/plain": [
       "Species\n",
       "Lobug    3\n",
       "Mobug    6\n",
       "Name: Species, dtype: int64"
      ]
     },
     "execution_count": 30,
     "metadata": {},
     "output_type": "execute_result"
    }
   ],
   "source": [
    "less17 = bugs[bugs['Length (mm)']<17].groupby('Species')['Species'].count()\n",
    "less17"
   ]
  },
  {
   "cell_type": "code",
   "execution_count": 29,
   "metadata": {},
   "outputs": [
    {
     "data": {
      "text/plain": [
       "Species\n",
       "Lobug    11\n",
       "Mobug     4\n",
       "Name: Species, dtype: int64"
      ]
     },
     "execution_count": 29,
     "metadata": {},
     "output_type": "execute_result"
    }
   ],
   "source": [
    "greater17 = bugs[bugs['Length (mm)']>17].groupby('Species')['Species'].count()\n",
    "greater17"
   ]
  },
  {
   "cell_type": "code",
   "execution_count": 33,
   "metadata": {},
   "outputs": [
    {
     "data": {
      "text/plain": [
       "0.11260735516748976"
      ]
     },
     "execution_count": 33,
     "metadata": {},
     "output_type": "execute_result"
    }
   ],
   "source": [
    "en_17 = 9/24*entropy([less17['Lobug'], less17['Mobug']]) + 15/24*entropy([greater17['Lobug'], greater17['Mobug']])\n",
    "info_gain17 = total_en - en_17\n",
    "info_gain17"
   ]
  },
  {
   "cell_type": "markdown",
   "metadata": {},
   "source": [
    "**Case 4: Classified by Length < 17mm**"
   ]
  },
  {
   "cell_type": "code",
   "execution_count": 49,
   "metadata": {},
   "outputs": [
    {
     "data": {
      "text/plain": [
       "Species\n",
       "Lobug    8\n",
       "Mobug    9\n",
       "Name: Species, dtype: int64"
      ]
     },
     "execution_count": 49,
     "metadata": {},
     "output_type": "execute_result"
    }
   ],
   "source": [
    "less20 = bugs[bugs['Length (mm)']<=20].groupby('Species')['Species'].count()\n",
    "less20"
   ]
  },
  {
   "cell_type": "code",
   "execution_count": 50,
   "metadata": {},
   "outputs": [
    {
     "data": {
      "text/plain": [
       "Species\n",
       "Lobug    6\n",
       "Mobug    1\n",
       "Name: Species, dtype: int64"
      ]
     },
     "execution_count": 50,
     "metadata": {},
     "output_type": "execute_result"
    }
   ],
   "source": [
    "greater20 = bugs[bugs['Length (mm)']>20].groupby('Species')['Species'].count()\n",
    "greater20"
   ]
  },
  {
   "cell_type": "code",
   "execution_count": 51,
   "metadata": {},
   "outputs": [
    {
     "data": {
      "text/plain": [
       "0.10073322588651734"
      ]
     },
     "execution_count": 51,
     "metadata": {},
     "output_type": "execute_result"
    }
   ],
   "source": [
    "en_20 = 17/24*entropy([less20['Lobug'], less20['Mobug']]) + 7/24*entropy([greater20['Lobug'], greater20['Mobug']])\n",
    "info_gain20 = total_en - en_20\n",
    "info_gain20"
   ]
  },
  {
   "cell_type": "markdown",
   "metadata": {},
   "source": [
    "**Print Out the Result**"
   ]
  },
  {
   "cell_type": "code",
   "execution_count": 54,
   "metadata": {},
   "outputs": [
    {
     "data": {
      "text/html": [
       "<div>\n",
       "<style scoped>\n",
       "    .dataframe tbody tr th:only-of-type {\n",
       "        vertical-align: middle;\n",
       "    }\n",
       "\n",
       "    .dataframe tbody tr th {\n",
       "        vertical-align: top;\n",
       "    }\n",
       "\n",
       "    .dataframe thead th {\n",
       "        text-align: right;\n",
       "    }\n",
       "</style>\n",
       "<table border=\"1\" class=\"dataframe\">\n",
       "  <thead>\n",
       "    <tr style=\"text-align: right;\">\n",
       "      <th></th>\n",
       "      <th>Color=Brown</th>\n",
       "      <th>Color=Blue</th>\n",
       "      <th>Color=Green</th>\n",
       "      <th>Length&lt;17mm</th>\n",
       "      <th>Length&lt;20mm</th>\n",
       "    </tr>\n",
       "  </thead>\n",
       "  <tbody>\n",
       "    <tr>\n",
       "      <th>0</th>\n",
       "      <td>0.061573</td>\n",
       "      <td>0.00059</td>\n",
       "      <td>0.042776</td>\n",
       "      <td>0.112607</td>\n",
       "      <td>0.100733</td>\n",
       "    </tr>\n",
       "  </tbody>\n",
       "</table>\n",
       "</div>"
      ],
      "text/plain": [
       "   Color=Brown  Color=Blue  Color=Green  Length<17mm  Length<20mm\n",
       "0     0.061573     0.00059     0.042776     0.112607     0.100733"
      ]
     },
     "execution_count": 54,
     "metadata": {},
     "output_type": "execute_result"
    }
   ],
   "source": [
    "res = pd.DataFrame([[info_gain_br, info_gain_bl, info_gain_gr, info_gain17, info_gain20]], \\\n",
    "                   columns=['Color=Brown', 'Color=Blue', 'Color=Green', 'Length<17mm', 'Length<20mm'])\n",
    "\n",
    "res"
   ]
  },
  {
   "cell_type": "markdown",
   "metadata": {},
   "source": [
    "## Demo 2: Decision Tree in sklearn\n",
    "\n",
    "the most common hyperparameters for Decision Tree model in sklearn are:\n",
    "- `max_depth`: The maximum number of levels in the tree.\n",
    "- `min_samples_leaf`: The minimum number of samples allowed in a leaf.\n",
    "- `min_samples_split`: The minimum number of samples required to split an internal node.\n",
    "\n",
    "For example:\n",
    "```\n",
    "model = DecisionTreeClassifier(max_depth = 7, min_samples_leaf = 10)\n",
    "```"
   ]
  },
  {
   "cell_type": "markdown",
   "metadata": {},
   "source": [
    "### A  Simple Quiz\n",
    "\n",
    "In the following sample dataset, the goal is to define a model that gives 100% accuracy on it.\n",
    "\n",
    "**STEPS**  \n",
    "\n",
    "***STEP 1: Build a decision tree model.***  \n",
    "- Create a decision tree classification model using scikit-learn's DecisionTreeClassifier.\n",
    "\n",
    "***STEP 2: Fit the model to the data.***\n",
    "- You won't need to specify any of the hyperparameters, since the default ones will yield a model that perfectly classifies the training data. However, we encourage you to play with hyperparameters such as `max_depth` and `min_samples_leaf` to try to find the simplest possible model.\n",
    "\n",
    "***STEP 3: Predict using the model***\n",
    "- Predict the labels for the training set, and assign this list to the variable y_pred.\n",
    "\n",
    "***STEP 4: Calculate the accuracy of the model***\n",
    "- For this, use the function sklearn function `accuracy_score`. A model's <font color=red>accuracy</font> is the fraction of all data points that it correctly classified.\n",
    "\n",
    "**NOTE**  \n",
    "This quiz requires you to find an accuracy of 100% on the training set. This is like memorizing the training data! A model designed to have 100% accuracy on training data is unlikely to generalize well to new data. If you pick very large values for your parameters, the model will fit the training set very well, but may not generalize well. ***Try to find the smallest possible parameters*** that do the job—then the model will be more likely to generalize well. "
   ]
  },
  {
   "cell_type": "code",
   "execution_count": 56,
   "metadata": {},
   "outputs": [],
   "source": [
    "from sklearn.tree import DecisionTreeClassifier\n",
    "from sklearn.metrics import accuracy_score"
   ]
  },
  {
   "cell_type": "code",
   "execution_count": 69,
   "metadata": {},
   "outputs": [
    {
     "data": {
      "text/html": [
       "<div>\n",
       "<style scoped>\n",
       "    .dataframe tbody tr th:only-of-type {\n",
       "        vertical-align: middle;\n",
       "    }\n",
       "\n",
       "    .dataframe tbody tr th {\n",
       "        vertical-align: top;\n",
       "    }\n",
       "\n",
       "    .dataframe thead th {\n",
       "        text-align: right;\n",
       "    }\n",
       "</style>\n",
       "<table border=\"1\" class=\"dataframe\">\n",
       "  <thead>\n",
       "    <tr style=\"text-align: right;\">\n",
       "      <th></th>\n",
       "      <th>x_coor</th>\n",
       "      <th>y_coor</th>\n",
       "      <th>class</th>\n",
       "    </tr>\n",
       "  </thead>\n",
       "  <tbody>\n",
       "    <tr>\n",
       "      <th>0</th>\n",
       "      <td>0.245390</td>\n",
       "      <td>0.81725</td>\n",
       "      <td>0</td>\n",
       "    </tr>\n",
       "    <tr>\n",
       "      <th>1</th>\n",
       "      <td>0.217740</td>\n",
       "      <td>0.76462</td>\n",
       "      <td>0</td>\n",
       "    </tr>\n",
       "    <tr>\n",
       "      <th>2</th>\n",
       "      <td>0.201610</td>\n",
       "      <td>0.69737</td>\n",
       "      <td>0</td>\n",
       "    </tr>\n",
       "    <tr>\n",
       "      <th>3</th>\n",
       "      <td>0.201610</td>\n",
       "      <td>0.58041</td>\n",
       "      <td>0</td>\n",
       "    </tr>\n",
       "    <tr>\n",
       "      <th>4</th>\n",
       "      <td>0.247700</td>\n",
       "      <td>0.49561</td>\n",
       "      <td>0</td>\n",
       "    </tr>\n",
       "    <tr>\n",
       "      <th>...</th>\n",
       "      <td>...</td>\n",
       "      <td>...</td>\n",
       "      <td>...</td>\n",
       "    </tr>\n",
       "    <tr>\n",
       "      <th>91</th>\n",
       "      <td>0.155530</td>\n",
       "      <td>0.13596</td>\n",
       "      <td>1</td>\n",
       "    </tr>\n",
       "    <tr>\n",
       "      <th>92</th>\n",
       "      <td>0.238480</td>\n",
       "      <td>0.12427</td>\n",
       "      <td>1</td>\n",
       "    </tr>\n",
       "    <tr>\n",
       "      <th>93</th>\n",
       "      <td>0.330650</td>\n",
       "      <td>0.12427</td>\n",
       "      <td>1</td>\n",
       "    </tr>\n",
       "    <tr>\n",
       "      <th>94</th>\n",
       "      <td>0.095622</td>\n",
       "      <td>0.26170</td>\n",
       "      <td>1</td>\n",
       "    </tr>\n",
       "    <tr>\n",
       "      <th>95</th>\n",
       "      <td>0.091014</td>\n",
       "      <td>0.20322</td>\n",
       "      <td>1</td>\n",
       "    </tr>\n",
       "  </tbody>\n",
       "</table>\n",
       "<p>96 rows × 3 columns</p>\n",
       "</div>"
      ],
      "text/plain": [
       "      x_coor   y_coor  class\n",
       "0   0.245390  0.81725      0\n",
       "1   0.217740  0.76462      0\n",
       "2   0.201610  0.69737      0\n",
       "3   0.201610  0.58041      0\n",
       "4   0.247700  0.49561      0\n",
       "..       ...      ...    ...\n",
       "91  0.155530  0.13596      1\n",
       "92  0.238480  0.12427      1\n",
       "93  0.330650  0.12427      1\n",
       "94  0.095622  0.26170      1\n",
       "95  0.091014  0.20322      1\n",
       "\n",
       "[96 rows x 3 columns]"
      ]
     },
     "execution_count": 69,
     "metadata": {},
     "output_type": "execute_result"
    }
   ],
   "source": [
    "data = pd.read_csv('decisionTree_sklearn.csv', header=None, names=['x_coor','y_coor', 'class'])\n",
    "data"
   ]
  },
  {
   "cell_type": "code",
   "execution_count": 59,
   "metadata": {},
   "outputs": [
    {
     "data": {
      "text/html": [
       "<div>\n",
       "<style scoped>\n",
       "    .dataframe tbody tr th:only-of-type {\n",
       "        vertical-align: middle;\n",
       "    }\n",
       "\n",
       "    .dataframe tbody tr th {\n",
       "        vertical-align: top;\n",
       "    }\n",
       "\n",
       "    .dataframe thead th {\n",
       "        text-align: right;\n",
       "    }\n",
       "</style>\n",
       "<table border=\"1\" class=\"dataframe\">\n",
       "  <thead>\n",
       "    <tr style=\"text-align: right;\">\n",
       "      <th></th>\n",
       "      <th>0</th>\n",
       "      <th>1</th>\n",
       "    </tr>\n",
       "  </thead>\n",
       "  <tbody>\n",
       "    <tr>\n",
       "      <th>0</th>\n",
       "      <td>0.245390</td>\n",
       "      <td>0.81725</td>\n",
       "    </tr>\n",
       "    <tr>\n",
       "      <th>1</th>\n",
       "      <td>0.217740</td>\n",
       "      <td>0.76462</td>\n",
       "    </tr>\n",
       "    <tr>\n",
       "      <th>2</th>\n",
       "      <td>0.201610</td>\n",
       "      <td>0.69737</td>\n",
       "    </tr>\n",
       "    <tr>\n",
       "      <th>3</th>\n",
       "      <td>0.201610</td>\n",
       "      <td>0.58041</td>\n",
       "    </tr>\n",
       "    <tr>\n",
       "      <th>4</th>\n",
       "      <td>0.247700</td>\n",
       "      <td>0.49561</td>\n",
       "    </tr>\n",
       "    <tr>\n",
       "      <th>...</th>\n",
       "      <td>...</td>\n",
       "      <td>...</td>\n",
       "    </tr>\n",
       "    <tr>\n",
       "      <th>91</th>\n",
       "      <td>0.155530</td>\n",
       "      <td>0.13596</td>\n",
       "    </tr>\n",
       "    <tr>\n",
       "      <th>92</th>\n",
       "      <td>0.238480</td>\n",
       "      <td>0.12427</td>\n",
       "    </tr>\n",
       "    <tr>\n",
       "      <th>93</th>\n",
       "      <td>0.330650</td>\n",
       "      <td>0.12427</td>\n",
       "    </tr>\n",
       "    <tr>\n",
       "      <th>94</th>\n",
       "      <td>0.095622</td>\n",
       "      <td>0.26170</td>\n",
       "    </tr>\n",
       "    <tr>\n",
       "      <th>95</th>\n",
       "      <td>0.091014</td>\n",
       "      <td>0.20322</td>\n",
       "    </tr>\n",
       "  </tbody>\n",
       "</table>\n",
       "<p>96 rows × 2 columns</p>\n",
       "</div>"
      ],
      "text/plain": [
       "           0        1\n",
       "0   0.245390  0.81725\n",
       "1   0.217740  0.76462\n",
       "2   0.201610  0.69737\n",
       "3   0.201610  0.58041\n",
       "4   0.247700  0.49561\n",
       "..       ...      ...\n",
       "91  0.155530  0.13596\n",
       "92  0.238480  0.12427\n",
       "93  0.330650  0.12427\n",
       "94  0.095622  0.26170\n",
       "95  0.091014  0.20322\n",
       "\n",
       "[96 rows x 2 columns]"
      ]
     },
     "execution_count": 59,
     "metadata": {},
     "output_type": "execute_result"
    }
   ],
   "source": [
    "X = data.iloc[:, :-1]\n",
    "X"
   ]
  },
  {
   "cell_type": "code",
   "execution_count": 61,
   "metadata": {},
   "outputs": [
    {
     "data": {
      "text/plain": [
       "0     0\n",
       "1     0\n",
       "2     0\n",
       "3     0\n",
       "4     0\n",
       "     ..\n",
       "91    1\n",
       "92    1\n",
       "93    1\n",
       "94    1\n",
       "95    1\n",
       "Name: 2, Length: 96, dtype: int64"
      ]
     },
     "execution_count": 61,
     "metadata": {},
     "output_type": "execute_result"
    }
   ],
   "source": [
    "y = data.iloc[:, -1]\n",
    "y"
   ]
  },
  {
   "cell_type": "code",
   "execution_count": 74,
   "metadata": {},
   "outputs": [
    {
     "data": {
      "image/png": "[encoded data removed]",
      "text/plain": [
       "<Figure size 432x288 with 1 Axes>"
      ]
     },
     "metadata": {
      "needs_background": "light"
     },
     "output_type": "display_data"
    }
   ],
   "source": [
    "data1 = data[data['class']==0]\n",
    "data2 = data[data['class']==1]\n",
    "\n",
    "_ = plt.scatter('x_coor', 'y_coor', data=data1, color='blue')\n",
    "_ = plt.scatter('x_coor', 'y_coor', data=data2, color='red')"
   ]
  },
  {
   "cell_type": "code",
   "execution_count": 64,
   "metadata": {},
   "outputs": [
    {
     "name": "stdout",
     "output_type": "stream",
     "text": [
      "The accuracy is: 1.0\n"
     ]
    }
   ],
   "source": [
    "dt = DecisionTreeClassifier()\n",
    "dt.fit(X, y)\n",
    "\n",
    "y_pred = dt.predict(X)\n",
    "\n",
    "acc = accuracy_score(y, y_pred)\n",
    "print(\"The accuracy is: {}\".format(acc))"
   ]
  },
  {
   "cell_type": "markdown",
   "metadata": {},
   "source": [
    "<img src=decisionTreeSklearn.png >"
   ]
  },
  {
   "cell_type": "code",
   "execution_count": null,
   "metadata": {},
   "outputs": [],
   "source": []
  }
 ],
 "metadata": {
  "kernelspec": {
   "display_name": "Python 3",
   "language": "python",
   "name": "python3"
  },
  "language_info": {
   "codemirror_mode": {
    "name": "ipython",
    "version": 3
   },
   "file_extension": ".py",
   "mimetype": "text/x-python",
   "name": "python",
   "nbconvert_exporter": "python",
   "pygments_lexer": "ipython3",
   "version": "3.7.9"
  }
 },
 "nbformat": 4,
 "nbformat_minor": 4
}
